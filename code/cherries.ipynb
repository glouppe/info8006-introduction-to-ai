{
 "cells": [
  {
   "cell_type": "code",
   "execution_count": 1,
   "id": "29240156-642e-4af9-bc5f-a067cd1c8425",
   "metadata": {
    "tags": []
   },
   "outputs": [],
   "source": [
    "import numpy as np\n",
    "import matplotlib.pyplot as plt"
   ]
  },
  {
   "cell_type": "markdown",
   "id": "4431ba86-a322-4ac9-b1dd-990f1fd06405",
   "metadata": {},
   "source": [
    "# Case (a)"
   ]
  },
  {
   "cell_type": "code",
   "execution_count": null,
   "id": "effe66de",
   "metadata": {
    "tags": []
   },
   "outputs": [],
   "source": [
    "from scipy.stats import bernoulli\n",
    "\n",
    "theta_true = 0.5\n",
    "n_samples = 10 \n",
    "\n",
    "def draw(n=1):\n",
    "    return bernoulli.rvs(p=theta_true, size=n)\n",
    "\n",
    "candies = draw(n_samples)\n",
    "print(candies)"
   ]
  },
  {
   "cell_type": "markdown",
   "id": "82fc4739",
   "metadata": {},
   "source": [
    "## Maximum likelihood estimation"
   ]
  },
  {
   "cell_type": "code",
   "execution_count": null,
   "id": "decb818a",
   "metadata": {
    "tags": []
   },
   "outputs": [],
   "source": [
    "from scipy.optimize import minimize\n",
    "\n",
    "def log_likelihood(theta, candies):\n",
    "    if theta < 0 or theta > 1:\n",
    "        return -np.inf\n",
    "    return bernoulli.logpmf(candies, p=theta).sum()\n",
    "\n",
    "r = minimize(lambda *args: -log_likelihood(*args), \n",
    "             x0=0.1, args=(candies, ))\n",
    "theta_mle = r.x[0]\n",
    "print(theta_mle)"
   ]
  },
  {
   "cell_type": "code",
   "execution_count": null,
   "id": "bbd0d9e3",
   "metadata": {
    "tags": []
   },
   "outputs": [],
   "source": [
    "# ... which should be consistent with the mean\n",
    "candies.mean()"
   ]
  },
  {
   "cell_type": "markdown",
   "id": "578b5b89",
   "metadata": {},
   "source": [
    "## Bayesian parameter estimation"
   ]
  },
  {
   "cell_type": "code",
   "execution_count": null,
   "id": "07a80f9f",
   "metadata": {
    "tags": []
   },
   "outputs": [],
   "source": [
    "from scipy.stats import beta\n",
    "\n",
    "def map_estimate(prior, a, b):\n",
    "    if a > 1 and b > 1:\n",
    "        return (a - 1) / (a + b - 2)\n",
    "    elif a == 1 and b == 1:\n",
    "        return 0.5\n",
    "    elif a <= 1 and b > 1:\n",
    "        return 0\n",
    "    elif a > 1 and b <= 1:\n",
    "        return 1\n",
    "\n",
    "def plot_beliefs(prior, a, b):\n",
    "    fig = plt.figure()\n",
    "    ax = plt.axes()\n",
    "    x = np.linspace(0, 1, 100)\n",
    "    ax.plot(x, prior.pdf(x), label=r\"$p(\\theta)=Beta[{}, {}](\\theta)$\".format(a, b))\n",
    "    ax.scatter(theta_true, 0, label=r\"$\\theta_{true}$\", color=\"red\")\n",
    "    ax.vlines(theta_true, 0, prior.pdf(theta_true), color=\"red\", linestyle=\"--\")\n",
    "\n",
    "    ax.scatter(theta_mle, 0, label=r\"$\\theta_{MLE}}$\", color=\"green\")\n",
    "    ax.vlines(theta_mle, 0, prior.pdf(theta_mle), color=\"green\", linestyle=\"--\")\n",
    "\n",
    "    theta_map = map_estimate(prior, a, b)\n",
    "    ax.scatter(theta_map, 0, label=r\"$\\theta_{MAP}}$\", color=\"purple\")\n",
    "    ax.vlines(theta_map, 0, prior.pdf(theta_map), color=\"purple\", linestyle=\"--\")\n",
    "\n",
    "    ax.set(ylim=(0, 5))\n",
    "    ax.legend()\n",
    "    plt.show()\n",
    "\n",
    "# Prior\n",
    "a, b = 1, 1\n",
    "prior = beta(a, b)\n",
    "plot_beliefs(prior, a, b)"
   ]
  },
  {
   "cell_type": "code",
   "execution_count": 6,
   "id": "c2305689",
   "metadata": {
    "tags": []
   },
   "outputs": [],
   "source": [
    "i = 0"
   ]
  },
  {
   "cell_type": "code",
   "execution_count": null,
   "id": "53b4c791",
   "metadata": {
    "tags": []
   },
   "outputs": [],
   "source": [
    "# Update\n",
    "if i >= len(candies):\n",
    "    print(\"No more candies!\")\n",
    "else:\n",
    "    print(\"Number of candies eaten: {}\".format(i+1))\n",
    "    flavor = candies[i]\n",
    "    if flavor == 1:\n",
    "        a += 1\n",
    "    else:\n",
    "        b += 1\n",
    "    i += 1\n",
    "\n",
    "prior = beta(a, b)\n",
    "plot_beliefs(prior, a, b)"
   ]
  },
  {
   "cell_type": "code",
   "execution_count": null,
   "id": "2b9bb6b8",
   "metadata": {
    "tags": []
   },
   "outputs": [],
   "source": [
    "# Why does theta_map converge to theta_mle?"
   ]
  }
 ],
 "metadata": {
  "kernelspec": {
   "display_name": "dats0001",
   "language": "python",
   "name": "python3"
  },
  "language_info": {
   "codemirror_mode": {
    "name": "ipython",
    "version": 3
   },
   "file_extension": ".py",
   "mimetype": "text/x-python",
   "name": "python",
   "nbconvert_exporter": "python",
   "pygments_lexer": "ipython3",
   "version": "3.9.18"
  }
 },
 "nbformat": 4,
 "nbformat_minor": 5
}
