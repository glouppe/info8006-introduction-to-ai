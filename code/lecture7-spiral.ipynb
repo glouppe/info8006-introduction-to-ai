{
 "cells": [
  {
   "cell_type": "markdown",
   "metadata": {},
   "source": [
    "# Lecture 7: Spiral classification\n",
    "\n",
    "Notebook adapted from [Deep Learning (with PyTorch)](https://github.com/Atcold/pytorch-Deep-Learning) by Alfredo Canziani. "
   ]
  },
  {
   "cell_type": "code",
   "execution_count": null,
   "metadata": {},
   "outputs": [],
   "source": [
    "import numpy as np\n",
    "import torch\n",
    "import torch.nn as nn\n",
    "device = torch.device(\"cuda:0\" if torch.cuda.is_available() else \"cpu\")\n",
    "print(device)"
   ]
  },
  {
   "cell_type": "code",
   "execution_count": null,
   "metadata": {},
   "outputs": [],
   "source": [
    "# Plot functions\n",
    "import matplotlib.pyplot as plt\n",
    "from IPython import display\n",
    "plt.rc('figure', figsize=(8, 8))\n",
    "\n",
    "def plot_data(X, y, d=0, auto=False, zoom=1):\n",
    "    X = X.cpu()\n",
    "    y = y.cpu()\n",
    "    plt.scatter(X.numpy()[:, 0], X.numpy()[:, 1], c=y)\n",
    "    plt.axis('square')\n",
    "    plt.axis(np.array((-1.1, 1.1, -1.1, 1.1)) * zoom)\n",
    "    if auto is True: plt.axis('equal')\n",
    "    plt.axis('off')\n",
    "    \n",
    "def plot_model(X, y, model):  \n",
    "    model.cpu()\n",
    "    \n",
    "    mesh = np.arange(-1.1, 1.1, 0.01)\n",
    "    xx, yy = np.meshgrid(mesh, mesh)\n",
    "    with torch.no_grad():\n",
    "        data = torch.from_numpy(np.vstack((xx.reshape(-1), yy.reshape(-1))).T).float()\n",
    "        Z = model(data).detach()\n",
    "\n",
    "    if Z.dim() > 1 and Z.size(1) > 1:\n",
    "        Z = torch.argmax(Z, dim=1)\n",
    "    else:\n",
    "        Z = (Z > 0.5).float()\n",
    "\n",
    "    Z = Z.reshape(xx.shape).numpy()\n",
    "    \n",
    "    plt.contourf(xx, yy, Z, alpha=0.3)\n",
    "    plot_data(X, y)"
   ]
  },
  {
   "cell_type": "code",
   "execution_count": null,
   "metadata": {},
   "outputs": [],
   "source": [
    "# Setup\n",
    "seed = 12345\n",
    "torch.manual_seed(seed)\n",
    "\n",
    "N = 200  # num_samples_per_class\n",
    "D = 2    # dimensions\n",
    "C = 2    # num_classes"
   ]
  },
  {
   "cell_type": "code",
   "execution_count": null,
   "metadata": {},
   "outputs": [],
   "source": [
    "# Generate spiral data\n",
    "X = torch.zeros(N * C, D).to(device)\n",
    "y = torch.zeros(N * C, dtype=torch.long).to(device)\n",
    "\n",
    "for c in range(C):\n",
    "    index = 0\n",
    "    t = torch.linspace(0, 1, N)\n",
    "    inner_var = torch.linspace(\n",
    "        (2 * np.pi / C) * (c),\n",
    "        (2 * np.pi / C) * (2 + c),\n",
    "        N\n",
    "    ) + torch.randn(N) * 0.5\n",
    "    \n",
    "    for ix in range(N * c, N * (c + 1)):\n",
    "        X[ix] = t[index] * torch.FloatTensor((\n",
    "            np.cos(inner_var[index]), np.sin(inner_var[index])\n",
    "        ))\n",
    "        y[ix] = c\n",
    "        index += 1"
   ]
  },
  {
   "cell_type": "code",
   "execution_count": null,
   "metadata": {},
   "outputs": [],
   "source": [
    "X.shape, y.shape"
   ]
  },
  {
   "cell_type": "code",
   "execution_count": null,
   "metadata": {},
   "outputs": [],
   "source": [
    "plot_data(X, y)"
   ]
  },
  {
   "cell_type": "markdown",
   "metadata": {},
   "source": [
    "### Linear model"
   ]
  },
  {
   "cell_type": "code",
   "execution_count": null,
   "metadata": {},
   "outputs": [],
   "source": [
    "model = torch.nn.Sequential(\n",
    "    torch.nn.Linear(D, 1),\n",
    "    torch.nn.Sigmoid()\n",
    ")\n",
    "\n",
    "model.to(device)  \n",
    "criterion = torch.nn.BCELoss()\n",
    "optimizer = torch.optim.Adam(model.parameters(), lr=1e-3, weight_decay=1e-5) \n",
    "\n",
    "# Training\n",
    "for t in range(2000):\n",
    "    y_pred = model(X)\n",
    "    \n",
    "    loss = criterion(y_pred.squeeze(), y.float())\n",
    "    predicted = (y_pred > 0.5).float().squeeze()\n",
    "    acc = (y == predicted).sum().float() / len(y)\n",
    "    \n",
    "    if t % 25 == 0:\n",
    "        plt.clf()\n",
    "        plot_model(X, y, model)\n",
    "        model.to(device)\n",
    "        display.display(plt.gcf())\n",
    "        print(\"[EPOCH]: %i, [LOSS]: %.6f, [ACCURACY]: %.3f\" % (t, loss.item(), acc))\n",
    "        display.clear_output(wait=True)\n",
    "        \n",
    "    optimizer.zero_grad()\n",
    "    loss.backward()\n",
    "    optimizer.step()\n",
    "\n",
    "print(\"[EPOCH]: %i, [LOSS]: %.6f, [ACCURACY]: %.3f\" % (t, loss.item(), acc))"
   ]
  },
  {
   "cell_type": "code",
   "execution_count": null,
   "metadata": {},
   "outputs": [],
   "source": [
    "# Multiclass classification (C > 2)\n",
    "model = torch.nn.Sequential(\n",
    "    torch.nn.Linear(D, C),\n",
    "    torch.nn.Softmax(dim=1)\n",
    ")\n",
    "\n",
    "model.to(device)  \n",
    "criterion = torch.nn.NLLLoss()\n",
    "optimizer = torch.optim.Adam(model.parameters(), lr=1e-3, weight_decay=1e-5) \n",
    "\n",
    "# Training\n",
    "for t in range(2000):\n",
    "    y_pred = model(X)\n",
    "    \n",
    "    loss = criterion(y_pred, y)\n",
    "    score, predicted = torch.max(y_pred, 1)\n",
    "    acc = (y == predicted).sum().float() / len(y)\n",
    "    \n",
    "    if t % 25 == 0:\n",
    "        plt.clf()\n",
    "        plot_model(X, y, model)\n",
    "        model.to(device)\n",
    "        display.display(plt.gcf())\n",
    "        print(\"[EPOCH]: %i, [LOSS]: %.6f, [ACCURACY]: %.3f\" % (t, loss.item(), acc))\n",
    "        display.clear_output(wait=True)\n",
    "        \n",
    "    optimizer.zero_grad()\n",
    "    loss.backward()\n",
    "    optimizer.step()\n",
    "\n",
    "print(\"[EPOCH]: %i, [LOSS]: %.6f, [ACCURACY]: %.3f\" % (t, loss.item(), acc))"
   ]
  },
  {
   "cell_type": "markdown",
   "metadata": {},
   "source": [
    "### MLP"
   ]
  },
  {
   "cell_type": "code",
   "execution_count": null,
   "metadata": {},
   "outputs": [],
   "source": [
    "H = 100\n",
    "\n",
    "model = torch.nn.Sequential(\n",
    "    torch.nn.Linear(D, H),\n",
    "    torch.nn.ReLU(),\n",
    "    torch.nn.Linear(H, C),\n",
    "    torch.nn.Softmax(dim=1)\n",
    ")\n",
    "\n",
    "# model = torch.nn.Sequential(\n",
    "#     torch.nn.Linear(D, H),\n",
    "#     torch.nn.ReLU(),\n",
    "#     torch.nn.Linear(H, H),\n",
    "#     torch.nn.ReLU(),\n",
    "#     torch.nn.Linear(H, H),\n",
    "#     torch.nn.ReLU(),\n",
    "#     torch.nn.Linear(H, H),\n",
    "#     torch.nn.ReLU(),\n",
    "#     torch.nn.Linear(H, C)\n",
    "# )\n",
    "\n",
    "model.to(device)\n",
    "criterion = torch.nn.NLLLoss()\n",
    "optimizer = torch.optim.Adam(model.parameters(), lr=1e-3, weight_decay=1e-5) \n",
    "\n",
    "for t in range(2000):\n",
    "    y_pred = model(X)\n",
    "    \n",
    "    loss = criterion(y_pred, y)\n",
    "    score, predicted = torch.max(y_pred, 1)\n",
    "    acc = (y == predicted).sum().float() / len(y)\n",
    "    \n",
    "    if t % 25 == 0:\n",
    "        plt.clf()\n",
    "        plot_model(X, y, model)\n",
    "        model.to(device)\n",
    "        display.display(plt.gcf())\n",
    "        print(\"[EPOCH]: %i, [LOSS]: %.6f, [ACCURACY]: %.3f\" % (t, loss.item(), acc))\n",
    "        display.clear_output(wait=True)\n",
    "    \n",
    "    optimizer.zero_grad()\n",
    "    loss.backward()\n",
    "    optimizer.step()\n",
    "\n",
    "print(\"[EPOCH]: %i, [LOSS]: %.6f, [ACCURACY]: %.3f\" % (t, loss.item(), acc))"
   ]
  }
 ],
 "metadata": {
  "kernelspec": {
   "display_name": "torch-cpu",
   "language": "python",
   "name": "python3"
  },
  "language_info": {
   "codemirror_mode": {
    "name": "ipython",
    "version": 3
   },
   "file_extension": ".py",
   "mimetype": "text/x-python",
   "name": "python",
   "nbconvert_exporter": "python",
   "pygments_lexer": "ipython3",
   "version": "3.10.9"
  }
 },
 "nbformat": 4,
 "nbformat_minor": 4
}
